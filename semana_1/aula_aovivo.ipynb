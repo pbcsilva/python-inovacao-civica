{
  "cells": [
    {
      "cell_type": "markdown",
      "metadata": {
        "id": "view-in-github",
        "colab_type": "text"
      },
      "source": [
        "<a href=\"https://colab.research.google.com/github/pbcsilva/python-inovacao-civica/blob/edicao-2/semana_1/aula_aovivo.ipynb\" target=\"_parent\"><img src=\"https://colab.research.google.com/assets/colab-badge.svg\" alt=\"Open In Colab\"/></a>"
      ]
    },
    {
      "cell_type": "markdown",
      "id": "32600998",
      "metadata": {
        "id": "32600998"
      },
      "source": [
        "# Exercício\n",
        "\n",
        "Construa um programa que:\n",
        " - Pergunte a usuária 2 números inteiros;\n",
        " - Crie uma lista numérica do intervalo;\n",
        " - Se o número for divisível por 3, substitua-o por \"Tecnologia\";\n",
        " - Se o número for divisível por 5, substitua-o por \"Cívica\";\n",
        " - Se o número for divisível por 3 e 5, substitua-o por \"Tecnologia Cívica\"."
      ]
    },
    {
      "cell_type": "code",
      "source": [
        "numero_1 = int(input('Digite o início do intervalo (número inteiro): '))"
      ],
      "metadata": {
        "id": "v89My1ATstD2",
        "outputId": "1224938e-ca7c-40ad-aedd-b1d854e33a1e",
        "colab": {
          "base_uri": "https://localhost:8080/"
        }
      },
      "id": "v89My1ATstD2",
      "execution_count": 2,
      "outputs": [
        {
          "name": "stdout",
          "output_type": "stream",
          "text": [
            "Digite o início do intervalo (número inteiro): 3\n"
          ]
        }
      ]
    },
    {
      "cell_type": "code",
      "source": [
        "numero_2 = int(input('Digite o fim do intervalo (número inteiro): '))"
      ],
      "metadata": {
        "id": "aVF9s_QTtqF7",
        "outputId": "234227e0-262c-4684-f55e-ab3c077ac799",
        "colab": {
          "base_uri": "https://localhost:8080/"
        }
      },
      "id": "aVF9s_QTtqF7",
      "execution_count": 5,
      "outputs": [
        {
          "name": "stdout",
          "output_type": "stream",
          "text": [
            "Digite o fim do intervalo (número inteiro): 32\n"
          ]
        }
      ]
    },
    {
      "cell_type": "code",
      "source": [
        "lista = list(range(numero_1, numero_2))\n",
        "print(lista)"
      ],
      "metadata": {
        "id": "3t7WUBrPt-jS",
        "outputId": "76b16199-a574-459d-9427-0fe712b6a315",
        "colab": {
          "base_uri": "https://localhost:8080/"
        }
      },
      "id": "3t7WUBrPt-jS",
      "execution_count": 51,
      "outputs": [
        {
          "output_type": "stream",
          "name": "stdout",
          "text": [
            "[3, 4, 5, 6, 7, 8, 9, 10, 11, 12, 13, 14, 15, 16, 17, 18, 19, 20, 21, 22, 23, 24, 25, 26, 27, 28, 29, 30, 31]\n"
          ]
        }
      ]
    },
    {
      "cell_type": "code",
      "source": [
        "lista_nova = []"
      ],
      "metadata": {
        "id": "NAS4iB3vzJQB"
      },
      "id": "NAS4iB3vzJQB",
      "execution_count": 60,
      "outputs": []
    },
    {
      "cell_type": "code",
      "source": [
        "for numero in lista:\n",
        "  if numero % 3 == 0 and numero % 5 == 0:\n",
        "    lista_nova.append('Tecnologia Cívica')\n",
        "  elif numero % 5 == 0:\n",
        "    lista_nova.append('Cívica')\n",
        "  elif numero % 3 == 0:\n",
        "    lista_nova.append('Tecnologia')\n",
        "  else:\n",
        "    lista_nova.append(numero)"
      ],
      "metadata": {
        "id": "npkDGP8bu4wN"
      },
      "id": "npkDGP8bu4wN",
      "execution_count": 61,
      "outputs": []
    },
    {
      "cell_type": "code",
      "source": [
        "print(lista_nova)"
      ],
      "metadata": {
        "id": "dP3CQEJqzHtm",
        "outputId": "79f6599d-4272-4d7b-860f-44d2062cf61a",
        "colab": {
          "base_uri": "https://localhost:8080/"
        }
      },
      "id": "dP3CQEJqzHtm",
      "execution_count": 62,
      "outputs": [
        {
          "output_type": "stream",
          "name": "stdout",
          "text": [
            "['Tecnologia', 4, 'Cívica', 'Tecnologia', 7, 8, 'Tecnologia', 'Cívica', 11, 'Tecnologia', 13, 14, 'Tecnologia Cívica', 16, 17, 'Tecnologia', 19, 'Cívica', 'Tecnologia', 22, 23, 'Tecnologia', 'Cívica', 26, 'Tecnologia', 28, 29, 'Tecnologia Cívica', 31]\n"
          ]
        }
      ]
    }
  ],
  "metadata": {
    "kernelspec": {
      "display_name": "Python 3 (ipykernel)",
      "language": "python",
      "name": "python3"
    },
    "language_info": {
      "codemirror_mode": {
        "name": "ipython",
        "version": 3
      },
      "file_extension": ".py",
      "mimetype": "text/x-python",
      "name": "python",
      "nbconvert_exporter": "python",
      "pygments_lexer": "ipython3",
      "version": "3.10.4"
    },
    "colab": {
      "provenance": [],
      "include_colab_link": true
    }
  },
  "nbformat": 4,
  "nbformat_minor": 5
}